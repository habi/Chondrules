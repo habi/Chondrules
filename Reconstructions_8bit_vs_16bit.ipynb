{
 "cells": [
  {
   "cell_type": "markdown",
   "metadata": {},
   "source": [
    "# Generate histograms of 8bit and 16bit reconstructions\n",
    "\n",
    "So we can properly answer a reviewer.\n",
    "They asked \"Why is only an 8-bit grayscale used here?\""
   ]
  },
  {
   "cell_type": "code",
   "execution_count": 1,
   "metadata": {},
   "outputs": [],
   "source": [
    "import platform\n",
    "import os\n",
    "import glob\n",
    "import pandas\n",
    "import dask\n",
    "from dask.distributed import Client, LocalCluster\n",
    "import dask_image.imread\n",
    "import matplotlib.pyplot as plt\n",
    "from matplotlib_scalebar.scalebar import ScaleBar\n",
    "import seaborn\n",
    "from tqdm.auto import tqdm, trange\n",
    "import imageio"
   ]
  },
  {
   "cell_type": "code",
   "execution_count": 2,
   "metadata": {
    "tags": []
   },
   "outputs": [],
   "source": [
    "# Import our own parsing functions which we've added as submodule\n",
    "from BrukerSkyScanLogfileRuminator.parsing_functions import *"
   ]
  },
  {
   "cell_type": "code",
   "execution_count": 80,
   "metadata": {},
   "outputs": [
    {
     "name": "stdout",
     "output_type": "stream",
     "text": [
      "Dask temporary files go to /media/habi/Fast_SSD/tmp\n"
     ]
    }
   ],
   "source": [
    "# Set dask temporary folder\n",
    "# Do this before creating a client: https://stackoverflow.com/a/62804525/323100\n",
    "import tempfile\n",
    "if 'Linux' in platform.system():\n",
    "    tmp = os.path.join(os.sep, 'media', 'habi', 'Fast_SSD')\n",
    "elif 'Darwin' in platform.system():\n",
    "    tmp = tempfile.gettempdir()\n",
    "else:\n",
    "    if 'anaklin' in platform.node():\n",
    "        tmp = os.path.join('F:\\\\')\n",
    "    else:\n",
    "        tmp = os.path.join('D:\\\\')\n",
    "dask.config.set({'temporary_directory': os.path.join(tmp, 'tmp')})\n",
    "print('Dask temporary files go to %s' % dask.config.get('temporary_directory'))"
   ]
  },
  {
   "cell_type": "code",
   "execution_count": 81,
   "metadata": {},
   "outputs": [
    {
     "name": "stderr",
     "output_type": "stream",
     "text": [
      "/home/habi/miniconda3/envs/yogita/lib/python3.10/site-packages/distributed/node.py:182: UserWarning: Port 8787 is already in use.\n",
      "Perhaps you already have a cluster running?\n",
      "Hosting the HTTP server on port 46337 instead\n",
      "  warnings.warn(\n"
     ]
    }
   ],
   "source": [
    "# Start cluster and client now, after setting tempdir\n",
    "cluster = LocalCluster()\n",
    "client = Client(cluster)"
   ]
  },
  {
   "cell_type": "code",
   "execution_count": 82,
   "metadata": {},
   "outputs": [
    {
     "name": "stdout",
     "output_type": "stream",
     "text": [
      "You can seee what DASK is doing at \"http://localhost:46337/status\"\n"
     ]
    }
   ],
   "source": [
    "print('You can seee what DASK is doing at \"http://localhost:%s/status\"' % client.scheduler_info()['services']['dashboard'])"
   ]
  },
  {
   "cell_type": "code",
   "execution_count": 83,
   "metadata": {},
   "outputs": [],
   "source": [
    "# # Ignore warnings in the notebook\n",
    "# import warnings\n",
    "# warnings.filterwarnings(\"ignore\")"
   ]
  },
  {
   "cell_type": "code",
   "execution_count": 84,
   "metadata": {},
   "outputs": [],
   "source": [
    "# Set up figure defaults\n",
    "plt.rc('image', cmap='gray', interpolation='nearest')  # Display all images in b&w and with 'nearest' interpolation\n",
    "plt.rcParams['figure.figsize'] = (16, 9)  # Size up figures a bit\n",
    "plt.rcParams['figure.dpi'] = 300"
   ]
  },
  {
   "cell_type": "code",
   "execution_count": 85,
   "metadata": {},
   "outputs": [],
   "source": [
    "# Setup scale bar defaults\n",
    "plt.rcParams['scalebar.location'] = 'lower right'\n",
    "plt.rcParams['scalebar.frameon'] = False\n",
    "plt.rcParams['scalebar.color'] = 'white'"
   ]
  },
  {
   "cell_type": "code",
   "execution_count": 86,
   "metadata": {},
   "outputs": [
    {
     "name": "stdout",
     "output_type": "stream",
     "text": [
      "We are loading all the data from /media/habi/Fast_SSD/Chondrules Space Yogita\n"
     ]
    }
   ],
   "source": [
    "# Different locations if running either on Linux or Windows\n",
    "FastSSD = True\n",
    "# to speed things up significantly\n",
    "if 'Linux' in platform.system():\n",
    "    if FastSSD:\n",
    "        BasePath = os.path.join(os.sep, 'media', 'habi', 'Fast_SSD')\n",
    "    else:\n",
    "        BasePath = os.path.join(os.sep, 'home', 'habi', '1272')\n",
    "elif 'Darwin' in platform.system():\n",
    "    # First mount smb://resstore.unibe.ch/ana_rs_djonov/data in the Finder\n",
    "    FastSSD = False\n",
    "    BasePath = os.path.join('/Volumes/data/')\n",
    "elif 'Windows' in platform.system():\n",
    "    if FastSSD:\n",
    "        BasePath = os.path.join('F:\\\\')\n",
    "    else:\n",
    "        if 'anaklin' in platform.node():\n",
    "            BasePath = os.path.join('V:\\\\')\n",
    "        else:\n",
    "            BasePath = os.path.join('V:\\\\')\n",
    "Root = os.path.join(BasePath, 'Chondrules Space Yogita')\n",
    "print('We are loading all the data from %s' % Root)"
   ]
  },
  {
   "cell_type": "code",
   "execution_count": 50,
   "metadata": {},
   "outputs": [],
   "source": [
    "def get_git_hash():\n",
    "    '''\n",
    "    Get the current git hash from the repository.\n",
    "    Based on http://stackoverflow.com/a/949391/323100 and\n",
    "    http://stackoverflow.com/a/18283905/323100\n",
    "    '''\n",
    "    from subprocess import Popen, PIPE\n",
    "    import os\n",
    "    gitprocess = Popen(['git',\n",
    "                        '--git-dir',\n",
    "                        os.path.join(os.getcwd(), '.git'),\n",
    "                        'rev-parse',\n",
    "                        '--short',\n",
    "                        '--verify',\n",
    "                        'HEAD'],\n",
    "                       stdout=PIPE)\n",
    "    (output, _) = gitprocess.communicate()\n",
    "    return output.strip().decode(\"utf-8\")"
   ]
  },
  {
   "cell_type": "code",
   "execution_count": 51,
   "metadata": {
    "tags": []
   },
   "outputs": [
    {
     "name": "stdout",
     "output_type": "stream",
     "text": [
      "We are saving all the output to /home/habi/P/Documents/ChondrulesSpaceYogita/Output/ccf0f5d\n"
     ]
    }
   ],
   "source": [
    "# Make directory for output\n",
    "OutPutDir = os.path.join(os.getcwd(), 'Output', get_git_hash())\n",
    "print('We are saving all the output to %s' % OutPutDir)\n",
    "os.makedirs(OutPutDir, exist_ok=True)"
   ]
  },
  {
   "cell_type": "code",
   "execution_count": 52,
   "metadata": {},
   "outputs": [],
   "source": [
    "# Make us a dataframe for saving all that we need\n",
    "Data = pandas.DataFrame()"
   ]
  },
  {
   "cell_type": "code",
   "execution_count": 53,
   "metadata": {},
   "outputs": [
    {
     "name": "stdout",
     "output_type": "stream",
     "text": [
      "Searching for all log files in /media/habi/Fast_SSD/Chondrules Space Yogita\n"
     ]
    }
   ],
   "source": [
    "# Get *all* log files, unsorted but faster than with glob\n",
    "print('Searching for all log files in %s' % Root)\n",
    "Data['LogFile'] = [os.path.join(root, name)\n",
    "                   for root, dirs, files in os.walk(Root)\n",
    "                   for name in files\n",
    "                   if name.endswith((\".log\"))]"
   ]
  },
  {
   "cell_type": "code",
   "execution_count": 54,
   "metadata": {},
   "outputs": [],
   "source": [
    "# Get all folders\n",
    "Data['Folder'] = [os.path.dirname(f) for f in Data['LogFile']]"
   ]
  },
  {
   "cell_type": "code",
   "execution_count": 55,
   "metadata": {},
   "outputs": [],
   "source": [
    "#Check for samples which are not yet reconstructed\n",
    "for c, row in Data.iterrows():\n",
    "    # Iterate over every 'proj' folder\n",
    "    if 'proj' in row.Folder:\n",
    "        if not 'TScopy' in row.Folder and not 'PR' in row.Folder:\n",
    "            # If there's nothing with 'rec*' on the same level, then tell us        \n",
    "            if not glob.glob(row.Folder.replace('proj', '*rec*')):\n",
    "                print('- %s is missing matching reconstructions' % row.LogFile[len(Root)+1:])"
   ]
  },
  {
   "cell_type": "code",
   "execution_count": 56,
   "metadata": {},
   "outputs": [],
   "source": [
    "Data['XYAlignment'] = [glob.glob(os.path.join(f, '*.csv')) for f in Data['Folder']]"
   ]
  },
  {
   "cell_type": "code",
   "execution_count": 57,
   "metadata": {},
   "outputs": [
    {
     "name": "stdout",
     "output_type": "stream",
     "text": [
      "- All-CH2/QuickOverview/proj/All-CH2-Overview.log has *not* been X/Y aligned\n"
     ]
    }
   ],
   "source": [
    "# Check for samples which are missing the .csv-files for the XY-alignment\n",
    "for c, row in Data.iterrows():\n",
    "    # Iterate over every 'proj' folder\n",
    "    if 'proj' in row.Folder:\n",
    "        if not len(row.XYAlignment):\n",
    "            if not any(x in row.LogFile for x in ['rectmp.log']):\n",
    "                # 'rectmp.log' because we only exclude it afterwards :)\n",
    "                print('- %s has *not* been X/Y aligned' % row.LogFile[len(Root)+1:])"
   ]
  },
  {
   "cell_type": "code",
   "execution_count": 58,
   "metadata": {},
   "outputs": [],
   "source": [
    "# Get rid of all logfiles that we don't want\n",
    "# For *this* notebook we only want to look at two sets of reconstructions from Qing3\n",
    "for c, row in Data.iterrows():\n",
    "    if 'rec' not in row.Folder:\n",
    "        Data.drop([c], inplace=True)\n",
    "# Reset dataframe to something that we would get if we only would have loaded the 'rec' files\n",
    "Data = Data.reset_index(drop=True)"
   ]
  },
  {
   "cell_type": "code",
   "execution_count": 59,
   "metadata": {},
   "outputs": [],
   "source": [
    "# Generate us some meaningful colums\n",
    "Data['Sample'] = [l[len(Root)+1:].split(os.sep)[0] for l in Data['LogFile']]\n",
    "Data['SampleName'] = [sn.split('_')[0] for sn in Data['Sample']]\n",
    "Data['RecFolder'] = ['_'.join(l[len(Root)+1:].split(os.sep)[1:-1]) for l in Data['LogFile']]"
   ]
  },
  {
   "cell_type": "code",
   "execution_count": 60,
   "metadata": {},
   "outputs": [
    {
     "data": {
      "text/html": [
       "<div>\n",
       "<style scoped>\n",
       "    .dataframe tbody tr th:only-of-type {\n",
       "        vertical-align: middle;\n",
       "    }\n",
       "\n",
       "    .dataframe tbody tr th {\n",
       "        vertical-align: top;\n",
       "    }\n",
       "\n",
       "    .dataframe thead th {\n",
       "        text-align: right;\n",
       "    }\n",
       "</style>\n",
       "<table border=\"1\" class=\"dataframe\">\n",
       "  <thead>\n",
       "    <tr style=\"text-align: right;\">\n",
       "      <th></th>\n",
       "      <th>Sample</th>\n",
       "      <th>SampleName</th>\n",
       "      <th>RecFolder</th>\n",
       "    </tr>\n",
       "  </thead>\n",
       "  <tbody>\n",
       "    <tr>\n",
       "      <th>0</th>\n",
       "      <td>All-CH2</td>\n",
       "      <td>All-CH2</td>\n",
       "      <td>1umAl0.5_rec_PNG_8bit</td>\n",
       "    </tr>\n",
       "    <tr>\n",
       "      <th>1</th>\n",
       "      <td>All-CH2</td>\n",
       "      <td>All-CH2</td>\n",
       "      <td>1umAl0.5_rec_TIFF_16bit</td>\n",
       "    </tr>\n",
       "    <tr>\n",
       "      <th>2</th>\n",
       "      <td>All-CH2</td>\n",
       "      <td>All-CH2</td>\n",
       "      <td>1umAl0.5Cu0.038_rec_PNG_8bit</td>\n",
       "    </tr>\n",
       "    <tr>\n",
       "      <th>3</th>\n",
       "      <td>All-CH2</td>\n",
       "      <td>All-CH2</td>\n",
       "      <td>1umAl0.5Cu0.038_rec_TIFF_16bit</td>\n",
       "    </tr>\n",
       "    <tr>\n",
       "      <th>4</th>\n",
       "      <td>All-CH2</td>\n",
       "      <td>All-CH2</td>\n",
       "      <td>QuickOverview_rec</td>\n",
       "    </tr>\n",
       "    <tr>\n",
       "      <th>5</th>\n",
       "      <td>All-CH2</td>\n",
       "      <td>All-CH2</td>\n",
       "      <td>QuickOverview_rec_PNG_8bit</td>\n",
       "    </tr>\n",
       "    <tr>\n",
       "      <th>6</th>\n",
       "      <td>All-CH2</td>\n",
       "      <td>All-CH2</td>\n",
       "      <td>QuickOverview_rec_TIFF_16bit</td>\n",
       "    </tr>\n",
       "    <tr>\n",
       "      <th>7</th>\n",
       "      <td>CK3A</td>\n",
       "      <td>CK3A</td>\n",
       "      <td>rec_bottom_PNG_8bit</td>\n",
       "    </tr>\n",
       "    <tr>\n",
       "      <th>8</th>\n",
       "      <td>CK3A</td>\n",
       "      <td>CK3A</td>\n",
       "      <td>rec_bottom_TIFF_16bit</td>\n",
       "    </tr>\n",
       "    <tr>\n",
       "      <th>9</th>\n",
       "      <td>CK3B</td>\n",
       "      <td>CK3B</td>\n",
       "      <td>rec_top_PNG_8bit</td>\n",
       "    </tr>\n",
       "    <tr>\n",
       "      <th>10</th>\n",
       "      <td>CK3B</td>\n",
       "      <td>CK3B</td>\n",
       "      <td>rec_top_TIFF_16bit</td>\n",
       "    </tr>\n",
       "    <tr>\n",
       "      <th>11</th>\n",
       "      <td>Qing3</td>\n",
       "      <td>Qing3</td>\n",
       "      <td>rec_bottom_BMP_08bit</td>\n",
       "    </tr>\n",
       "    <tr>\n",
       "      <th>12</th>\n",
       "      <td>Qing3</td>\n",
       "      <td>Qing3</td>\n",
       "      <td>rec_bottom_JPG_08bit</td>\n",
       "    </tr>\n",
       "    <tr>\n",
       "      <th>13</th>\n",
       "      <td>Qing3</td>\n",
       "      <td>Qing3</td>\n",
       "      <td>rec_bottom_PNG_08bit</td>\n",
       "    </tr>\n",
       "    <tr>\n",
       "      <th>14</th>\n",
       "      <td>Qing3</td>\n",
       "      <td>Qing3</td>\n",
       "      <td>rec_bottom_TIFF_16bit</td>\n",
       "    </tr>\n",
       "  </tbody>\n",
       "</table>\n",
       "</div>"
      ],
      "text/plain": [
       "     Sample SampleName                       RecFolder\n",
       "0   All-CH2    All-CH2           1umAl0.5_rec_PNG_8bit\n",
       "1   All-CH2    All-CH2         1umAl0.5_rec_TIFF_16bit\n",
       "2   All-CH2    All-CH2    1umAl0.5Cu0.038_rec_PNG_8bit\n",
       "3   All-CH2    All-CH2  1umAl0.5Cu0.038_rec_TIFF_16bit\n",
       "4   All-CH2    All-CH2               QuickOverview_rec\n",
       "5   All-CH2    All-CH2      QuickOverview_rec_PNG_8bit\n",
       "6   All-CH2    All-CH2    QuickOverview_rec_TIFF_16bit\n",
       "7      CK3A       CK3A             rec_bottom_PNG_8bit\n",
       "8      CK3A       CK3A           rec_bottom_TIFF_16bit\n",
       "9      CK3B       CK3B                rec_top_PNG_8bit\n",
       "10     CK3B       CK3B              rec_top_TIFF_16bit\n",
       "11    Qing3      Qing3            rec_bottom_BMP_08bit\n",
       "12    Qing3      Qing3            rec_bottom_JPG_08bit\n",
       "13    Qing3      Qing3            rec_bottom_PNG_08bit\n",
       "14    Qing3      Qing3           rec_bottom_TIFF_16bit"
      ]
     },
     "execution_count": 60,
     "metadata": {},
     "output_type": "execute_result"
    }
   ],
   "source": [
    "Data[['Sample', 'SampleName', 'RecFolder']]"
   ]
  },
  {
   "cell_type": "code",
   "execution_count": 61,
   "metadata": {},
   "outputs": [],
   "source": [
    "# Get the file names of the reconstructions\n",
    "Data['Reconstructions'] = [sorted(glob.glob(os.path.join(f, '*rec0*.*'))) for f in Data['Folder']]\n",
    "Data['Number of reconstructions'] = [len(r) for r in Data.Reconstructions]"
   ]
  },
  {
   "cell_type": "code",
   "execution_count": 62,
   "metadata": {},
   "outputs": [
    {
     "name": "stdout",
     "output_type": "stream",
     "text": [
      "We have 7 folders with reconstructions\n"
     ]
    }
   ],
   "source": [
    "# Drop samples which have either not been reconstructed yet or of which we deleted the reconstructions with\n",
    "# `find . -name \"*rec*.png\" -type f -mtime +333 -delete`\n",
    "# Based on https://stackoverflow.com/a/13851602\n",
    "# for c,row in Data.iterrows():\n",
    "#     if not row['Number of reconstructions']:\n",
    "#         print('%s contains no PNG files, we might be currently reconstructing it' % row.Folder)\n",
    "Data = Data[Data['Number of reconstructions'] > 0]\n",
    "Data.reset_index(drop=True, inplace=True)\n",
    "print('We have %s folders with reconstructions' % (len(Data)))"
   ]
  },
  {
   "cell_type": "code",
   "execution_count": 63,
   "metadata": {
    "tags": []
   },
   "outputs": [
    {
     "data": {
      "text/html": [
       "<div>\n",
       "<style scoped>\n",
       "    .dataframe tbody tr th:only-of-type {\n",
       "        vertical-align: middle;\n",
       "    }\n",
       "\n",
       "    .dataframe tbody tr th {\n",
       "        vertical-align: top;\n",
       "    }\n",
       "\n",
       "    .dataframe thead th {\n",
       "        text-align: right;\n",
       "    }\n",
       "</style>\n",
       "<table border=\"1\" class=\"dataframe\">\n",
       "  <thead>\n",
       "    <tr style=\"text-align: right;\">\n",
       "      <th></th>\n",
       "      <th>LogFile</th>\n",
       "      <th>Folder</th>\n",
       "      <th>XYAlignment</th>\n",
       "      <th>Sample</th>\n",
       "      <th>SampleName</th>\n",
       "      <th>RecFolder</th>\n",
       "      <th>Reconstructions</th>\n",
       "      <th>Number of reconstructions</th>\n",
       "    </tr>\n",
       "  </thead>\n",
       "  <tbody>\n",
       "    <tr>\n",
       "      <th>0</th>\n",
       "      <td>/media/habi/Fast_SSD/Chondrules Space Yogita/A...</td>\n",
       "      <td>/media/habi/Fast_SSD/Chondrules Space Yogita/A...</td>\n",
       "      <td>[]</td>\n",
       "      <td>All-CH2</td>\n",
       "      <td>All-CH2</td>\n",
       "      <td>1umAl0.5_rec_PNG_8bit</td>\n",
       "      <td>[/media/habi/Fast_SSD/Chondrules Space Yogita/...</td>\n",
       "      <td>1678</td>\n",
       "    </tr>\n",
       "    <tr>\n",
       "      <th>1</th>\n",
       "      <td>/media/habi/Fast_SSD/Chondrules Space Yogita/A...</td>\n",
       "      <td>/media/habi/Fast_SSD/Chondrules Space Yogita/A...</td>\n",
       "      <td>[]</td>\n",
       "      <td>All-CH2</td>\n",
       "      <td>All-CH2</td>\n",
       "      <td>1umAl0.5Cu0.038_rec_PNG_8bit</td>\n",
       "      <td>[/media/habi/Fast_SSD/Chondrules Space Yogita/...</td>\n",
       "      <td>1621</td>\n",
       "    </tr>\n",
       "    <tr>\n",
       "      <th>2</th>\n",
       "      <td>/media/habi/Fast_SSD/Chondrules Space Yogita/A...</td>\n",
       "      <td>/media/habi/Fast_SSD/Chondrules Space Yogita/A...</td>\n",
       "      <td>[]</td>\n",
       "      <td>All-CH2</td>\n",
       "      <td>All-CH2</td>\n",
       "      <td>QuickOverview_rec_PNG_8bit</td>\n",
       "      <td>[/media/habi/Fast_SSD/Chondrules Space Yogita/...</td>\n",
       "      <td>571</td>\n",
       "    </tr>\n",
       "    <tr>\n",
       "      <th>3</th>\n",
       "      <td>/media/habi/Fast_SSD/Chondrules Space Yogita/C...</td>\n",
       "      <td>/media/habi/Fast_SSD/Chondrules Space Yogita/C...</td>\n",
       "      <td>[]</td>\n",
       "      <td>CK3A</td>\n",
       "      <td>CK3A</td>\n",
       "      <td>rec_bottom_PNG_8bit</td>\n",
       "      <td>[/media/habi/Fast_SSD/Chondrules Space Yogita/...</td>\n",
       "      <td>542</td>\n",
       "    </tr>\n",
       "    <tr>\n",
       "      <th>4</th>\n",
       "      <td>/media/habi/Fast_SSD/Chondrules Space Yogita/C...</td>\n",
       "      <td>/media/habi/Fast_SSD/Chondrules Space Yogita/C...</td>\n",
       "      <td>[]</td>\n",
       "      <td>CK3B</td>\n",
       "      <td>CK3B</td>\n",
       "      <td>rec_top_PNG_8bit</td>\n",
       "      <td>[/media/habi/Fast_SSD/Chondrules Space Yogita/...</td>\n",
       "      <td>624</td>\n",
       "    </tr>\n",
       "    <tr>\n",
       "      <th>5</th>\n",
       "      <td>/media/habi/Fast_SSD/Chondrules Space Yogita/Q...</td>\n",
       "      <td>/media/habi/Fast_SSD/Chondrules Space Yogita/Q...</td>\n",
       "      <td>[]</td>\n",
       "      <td>Qing3</td>\n",
       "      <td>Qing3</td>\n",
       "      <td>rec_bottom_JPG_08bit</td>\n",
       "      <td>[/media/habi/Fast_SSD/Chondrules Space Yogita/...</td>\n",
       "      <td>423</td>\n",
       "    </tr>\n",
       "    <tr>\n",
       "      <th>6</th>\n",
       "      <td>/media/habi/Fast_SSD/Chondrules Space Yogita/Q...</td>\n",
       "      <td>/media/habi/Fast_SSD/Chondrules Space Yogita/Q...</td>\n",
       "      <td>[]</td>\n",
       "      <td>Qing3</td>\n",
       "      <td>Qing3</td>\n",
       "      <td>rec_bottom_PNG_08bit</td>\n",
       "      <td>[/media/habi/Fast_SSD/Chondrules Space Yogita/...</td>\n",
       "      <td>701</td>\n",
       "    </tr>\n",
       "  </tbody>\n",
       "</table>\n",
       "</div>"
      ],
      "text/plain": [
       "                                             LogFile   \n",
       "0  /media/habi/Fast_SSD/Chondrules Space Yogita/A...  \\\n",
       "1  /media/habi/Fast_SSD/Chondrules Space Yogita/A...   \n",
       "2  /media/habi/Fast_SSD/Chondrules Space Yogita/A...   \n",
       "3  /media/habi/Fast_SSD/Chondrules Space Yogita/C...   \n",
       "4  /media/habi/Fast_SSD/Chondrules Space Yogita/C...   \n",
       "5  /media/habi/Fast_SSD/Chondrules Space Yogita/Q...   \n",
       "6  /media/habi/Fast_SSD/Chondrules Space Yogita/Q...   \n",
       "\n",
       "                                              Folder XYAlignment   Sample   \n",
       "0  /media/habi/Fast_SSD/Chondrules Space Yogita/A...          []  All-CH2  \\\n",
       "1  /media/habi/Fast_SSD/Chondrules Space Yogita/A...          []  All-CH2   \n",
       "2  /media/habi/Fast_SSD/Chondrules Space Yogita/A...          []  All-CH2   \n",
       "3  /media/habi/Fast_SSD/Chondrules Space Yogita/C...          []     CK3A   \n",
       "4  /media/habi/Fast_SSD/Chondrules Space Yogita/C...          []     CK3B   \n",
       "5  /media/habi/Fast_SSD/Chondrules Space Yogita/Q...          []    Qing3   \n",
       "6  /media/habi/Fast_SSD/Chondrules Space Yogita/Q...          []    Qing3   \n",
       "\n",
       "  SampleName                     RecFolder   \n",
       "0    All-CH2         1umAl0.5_rec_PNG_8bit  \\\n",
       "1    All-CH2  1umAl0.5Cu0.038_rec_PNG_8bit   \n",
       "2    All-CH2    QuickOverview_rec_PNG_8bit   \n",
       "3       CK3A           rec_bottom_PNG_8bit   \n",
       "4       CK3B              rec_top_PNG_8bit   \n",
       "5      Qing3          rec_bottom_JPG_08bit   \n",
       "6      Qing3          rec_bottom_PNG_08bit   \n",
       "\n",
       "                                     Reconstructions   \n",
       "0  [/media/habi/Fast_SSD/Chondrules Space Yogita/...  \\\n",
       "1  [/media/habi/Fast_SSD/Chondrules Space Yogita/...   \n",
       "2  [/media/habi/Fast_SSD/Chondrules Space Yogita/...   \n",
       "3  [/media/habi/Fast_SSD/Chondrules Space Yogita/...   \n",
       "4  [/media/habi/Fast_SSD/Chondrules Space Yogita/...   \n",
       "5  [/media/habi/Fast_SSD/Chondrules Space Yogita/...   \n",
       "6  [/media/habi/Fast_SSD/Chondrules Space Yogita/...   \n",
       "\n",
       "   Number of reconstructions  \n",
       "0                       1678  \n",
       "1                       1621  \n",
       "2                        571  \n",
       "3                        542  \n",
       "4                        624  \n",
       "5                        423  \n",
       "6                        701  "
      ]
     },
     "execution_count": 63,
     "metadata": {},
     "output_type": "execute_result"
    }
   ],
   "source": [
    "Data"
   ]
  },
  {
   "cell_type": "code",
   "execution_count": 64,
   "metadata": {},
   "outputs": [],
   "source": [
    "# Get scanning parameters to doublecheck from logfiles\n",
    "Data['Scanner'] = [scanner(log) for log in Data['LogFile']]\n",
    "Data['Voltage'] = [voltage(log) for log in Data['LogFile']]\n",
    "Data['Current'] = [current(log) for log in Data['LogFile']]\n",
    "Data['Voxelsize'] = [pixelsize(log, rounded=True) for log in Data['LogFile']]\n",
    "Data['ProjectionSize'] = [projection_size(log) for log in Data['LogFile']]\n",
    "Data['Exposuretime'] = [exposure(log) for log in Data['LogFile']]\n",
    "Data['Averaging'] = [averaging(log) for log in Data['LogFile']]\n",
    "Data['Stacks'] = [stacks(log) for log in Data['LogFile']]\n",
    "Data['RotationStep'] = [rotationstep(log) for log in Data['LogFile']]\n",
    "Data['Scan date'] = [scandate(log) for log in Data['LogFile']]\n",
    "Data['Scan time'] = [duration(log) for log in Data['LogFile']]"
   ]
  },
  {
   "cell_type": "code",
   "execution_count": 65,
   "metadata": {},
   "outputs": [
    {
     "data": {
      "text/plain": [
       "array([70., 90.])"
      ]
     },
     "execution_count": 65,
     "metadata": {},
     "output_type": "execute_result"
    }
   ],
   "source": [
    "Data.Voltage.unique()"
   ]
  },
  {
   "cell_type": "code",
   "execution_count": 66,
   "metadata": {},
   "outputs": [
    {
     "data": {
      "text/plain": [
       "array([142., 111.])"
      ]
     },
     "execution_count": 66,
     "metadata": {},
     "output_type": "execute_result"
    }
   ],
   "source": [
    "Data.Current.unique()"
   ]
  },
  {
   "cell_type": "code",
   "execution_count": 67,
   "metadata": {},
   "outputs": [
    {
     "data": {
      "text/plain": [
       "array([3, False], dtype=object)"
      ]
     },
     "execution_count": 67,
     "metadata": {},
     "output_type": "execute_result"
    }
   ],
   "source": [
    "Data.Averaging.unique()"
   ]
  },
  {
   "cell_type": "code",
   "execution_count": 68,
   "metadata": {},
   "outputs": [
    {
     "data": {
      "text/plain": [
       "array([1.  , 3.  , 1.65])"
      ]
     },
     "execution_count": 68,
     "metadata": {},
     "output_type": "execute_result"
    }
   ],
   "source": [
    "Data.Voxelsize.unique()"
   ]
  },
  {
   "cell_type": "code",
   "execution_count": 69,
   "metadata": {},
   "outputs": [],
   "source": [
    "# Get reconstruction parameters to doublecheck from logfiles\n",
    "Data['Grayvalue'] = [reconstruction_grayvalue(log) for log in Data['LogFile']]\n",
    "Data['RingartefactCorrection'] = [ringremoval(log) for log in Data['LogFile']]\n",
    "Data['BeamHardeningCorrection'] = [beamhardening(log) for log in Data['LogFile']]\n",
    "Data['DefectPixelMasking'] = [defectpixelmasking(log) for log in Data['LogFile']]"
   ]
  },
  {
   "cell_type": "code",
   "execution_count": 70,
   "metadata": {},
   "outputs": [
    {
     "data": {
      "text/plain": [
       "array([1.4     , 0.8     , 1.3     , 2.077912, 5.      , 1.8     ])"
      ]
     },
     "execution_count": 70,
     "metadata": {},
     "output_type": "execute_result"
    }
   ],
   "source": [
    "Data['Grayvalue'].unique()"
   ]
  },
  {
   "cell_type": "code",
   "execution_count": 71,
   "metadata": {},
   "outputs": [
    {
     "data": {
      "text/plain": [
       "array([20, 14])"
      ]
     },
     "execution_count": 71,
     "metadata": {},
     "output_type": "execute_result"
    }
   ],
   "source": [
    "Data['RingartefactCorrection'].unique()"
   ]
  },
  {
   "cell_type": "code",
   "execution_count": 72,
   "metadata": {},
   "outputs": [],
   "source": [
    "for c,row in Data.iterrows():\n",
    "    if not row.RingartefactCorrection:\n",
    "        print(row.Sample, row.RingartefactCorrection)"
   ]
  },
  {
   "cell_type": "code",
   "execution_count": 73,
   "metadata": {},
   "outputs": [
    {
     "data": {
      "text/html": [
       "<div>\n",
       "<style scoped>\n",
       "    .dataframe tbody tr th:only-of-type {\n",
       "        vertical-align: middle;\n",
       "    }\n",
       "\n",
       "    .dataframe tbody tr th {\n",
       "        vertical-align: top;\n",
       "    }\n",
       "\n",
       "    .dataframe thead th {\n",
       "        text-align: right;\n",
       "    }\n",
       "</style>\n",
       "<table border=\"1\" class=\"dataframe\">\n",
       "  <thead>\n",
       "    <tr style=\"text-align: right;\">\n",
       "      <th></th>\n",
       "      <th>Sample</th>\n",
       "      <th>RecFolder</th>\n",
       "      <th>Voxelsize</th>\n",
       "      <th>Grayvalue</th>\n",
       "      <th>RingartefactCorrection</th>\n",
       "      <th>BeamHardeningCorrection</th>\n",
       "      <th>DefectPixelMasking</th>\n",
       "    </tr>\n",
       "  </thead>\n",
       "  <tbody>\n",
       "    <tr>\n",
       "      <th>0</th>\n",
       "      <td>All-CH2</td>\n",
       "      <td>1umAl0.5_rec_PNG_8bit</td>\n",
       "      <td>1.00</td>\n",
       "      <td>1.400000</td>\n",
       "      <td>20</td>\n",
       "      <td>0</td>\n",
       "      <td>50</td>\n",
       "    </tr>\n",
       "    <tr>\n",
       "      <th>1</th>\n",
       "      <td>All-CH2</td>\n",
       "      <td>1umAl0.5Cu0.038_rec_PNG_8bit</td>\n",
       "      <td>1.00</td>\n",
       "      <td>0.800000</td>\n",
       "      <td>14</td>\n",
       "      <td>0</td>\n",
       "      <td>50</td>\n",
       "    </tr>\n",
       "    <tr>\n",
       "      <th>2</th>\n",
       "      <td>All-CH2</td>\n",
       "      <td>QuickOverview_rec_PNG_8bit</td>\n",
       "      <td>3.00</td>\n",
       "      <td>1.300000</td>\n",
       "      <td>14</td>\n",
       "      <td>0</td>\n",
       "      <td>50</td>\n",
       "    </tr>\n",
       "    <tr>\n",
       "      <th>3</th>\n",
       "      <td>CK3A</td>\n",
       "      <td>rec_bottom_PNG_8bit</td>\n",
       "      <td>1.65</td>\n",
       "      <td>2.077912</td>\n",
       "      <td>14</td>\n",
       "      <td>0</td>\n",
       "      <td>50</td>\n",
       "    </tr>\n",
       "    <tr>\n",
       "      <th>4</th>\n",
       "      <td>CK3B</td>\n",
       "      <td>rec_top_PNG_8bit</td>\n",
       "      <td>1.65</td>\n",
       "      <td>5.000000</td>\n",
       "      <td>14</td>\n",
       "      <td>0</td>\n",
       "      <td>50</td>\n",
       "    </tr>\n",
       "    <tr>\n",
       "      <th>5</th>\n",
       "      <td>Qing3</td>\n",
       "      <td>rec_bottom_JPG_08bit</td>\n",
       "      <td>1.65</td>\n",
       "      <td>1.800000</td>\n",
       "      <td>14</td>\n",
       "      <td>0</td>\n",
       "      <td>50</td>\n",
       "    </tr>\n",
       "    <tr>\n",
       "      <th>6</th>\n",
       "      <td>Qing3</td>\n",
       "      <td>rec_bottom_PNG_08bit</td>\n",
       "      <td>1.65</td>\n",
       "      <td>1.800000</td>\n",
       "      <td>14</td>\n",
       "      <td>0</td>\n",
       "      <td>50</td>\n",
       "    </tr>\n",
       "  </tbody>\n",
       "</table>\n",
       "</div>"
      ],
      "text/plain": [
       "    Sample                     RecFolder  Voxelsize  Grayvalue   \n",
       "0  All-CH2         1umAl0.5_rec_PNG_8bit       1.00   1.400000  \\\n",
       "1  All-CH2  1umAl0.5Cu0.038_rec_PNG_8bit       1.00   0.800000   \n",
       "2  All-CH2    QuickOverview_rec_PNG_8bit       3.00   1.300000   \n",
       "3     CK3A           rec_bottom_PNG_8bit       1.65   2.077912   \n",
       "4     CK3B              rec_top_PNG_8bit       1.65   5.000000   \n",
       "5    Qing3          rec_bottom_JPG_08bit       1.65   1.800000   \n",
       "6    Qing3          rec_bottom_PNG_08bit       1.65   1.800000   \n",
       "\n",
       "   RingartefactCorrection  BeamHardeningCorrection  DefectPixelMasking  \n",
       "0                      20                        0                  50  \n",
       "1                      14                        0                  50  \n",
       "2                      14                        0                  50  \n",
       "3                      14                        0                  50  \n",
       "4                      14                        0                  50  \n",
       "5                      14                        0                  50  \n",
       "6                      14                        0                  50  "
      ]
     },
     "execution_count": 73,
     "metadata": {},
     "output_type": "execute_result"
    }
   ],
   "source": [
    "Data[['Sample', 'RecFolder', 'Voxelsize', 'Grayvalue', 'RingartefactCorrection', 'BeamHardeningCorrection', 'DefectPixelMasking']]"
   ]
  },
  {
   "cell_type": "code",
   "execution_count": 74,
   "metadata": {},
   "outputs": [
    {
     "data": {
      "text/html": [
       "<div>\n",
       "<style scoped>\n",
       "    .dataframe tbody tr th:only-of-type {\n",
       "        vertical-align: middle;\n",
       "    }\n",
       "\n",
       "    .dataframe tbody tr th {\n",
       "        vertical-align: top;\n",
       "    }\n",
       "\n",
       "    .dataframe thead th {\n",
       "        text-align: right;\n",
       "    }\n",
       "</style>\n",
       "<table border=\"1\" class=\"dataframe\">\n",
       "  <thead>\n",
       "    <tr style=\"text-align: right;\">\n",
       "      <th></th>\n",
       "      <th>LogFile</th>\n",
       "      <th>Folder</th>\n",
       "      <th>XYAlignment</th>\n",
       "      <th>Sample</th>\n",
       "      <th>SampleName</th>\n",
       "      <th>RecFolder</th>\n",
       "      <th>Reconstructions</th>\n",
       "      <th>Number of reconstructions</th>\n",
       "      <th>Scanner</th>\n",
       "      <th>Voltage</th>\n",
       "      <th>...</th>\n",
       "      <th>Exposuretime</th>\n",
       "      <th>Averaging</th>\n",
       "      <th>Stacks</th>\n",
       "      <th>RotationStep</th>\n",
       "      <th>Scan date</th>\n",
       "      <th>Scan time</th>\n",
       "      <th>Grayvalue</th>\n",
       "      <th>RingartefactCorrection</th>\n",
       "      <th>BeamHardeningCorrection</th>\n",
       "      <th>DefectPixelMasking</th>\n",
       "    </tr>\n",
       "  </thead>\n",
       "  <tbody>\n",
       "    <tr>\n",
       "      <th>2</th>\n",
       "      <td>/media/habi/Fast_SSD/Chondrules Space Yogita/A...</td>\n",
       "      <td>/media/habi/Fast_SSD/Chondrules Space Yogita/A...</td>\n",
       "      <td>[]</td>\n",
       "      <td>All-CH2</td>\n",
       "      <td>All-CH2</td>\n",
       "      <td>QuickOverview_rec_PNG_8bit</td>\n",
       "      <td>[/media/habi/Fast_SSD/Chondrules Space Yogita/...</td>\n",
       "      <td>571</td>\n",
       "      <td>SkyScan 1272</td>\n",
       "      <td>70.0</td>\n",
       "      <td>...</td>\n",
       "      <td>1516</td>\n",
       "      <td>False</td>\n",
       "      <td>1</td>\n",
       "      <td>0.6</td>\n",
       "      <td>2020-02-18 15:53:26</td>\n",
       "      <td>1305.0</td>\n",
       "      <td>1.300000</td>\n",
       "      <td>14</td>\n",
       "      <td>0</td>\n",
       "      <td>50</td>\n",
       "    </tr>\n",
       "    <tr>\n",
       "      <th>3</th>\n",
       "      <td>/media/habi/Fast_SSD/Chondrules Space Yogita/C...</td>\n",
       "      <td>/media/habi/Fast_SSD/Chondrules Space Yogita/C...</td>\n",
       "      <td>[]</td>\n",
       "      <td>CK3A</td>\n",
       "      <td>CK3A</td>\n",
       "      <td>rec_bottom_PNG_8bit</td>\n",
       "      <td>[/media/habi/Fast_SSD/Chondrules Space Yogita/...</td>\n",
       "      <td>542</td>\n",
       "      <td>SkyScan 1272</td>\n",
       "      <td>70.0</td>\n",
       "      <td>...</td>\n",
       "      <td>3900</td>\n",
       "      <td>3</td>\n",
       "      <td>1</td>\n",
       "      <td>0.1</td>\n",
       "      <td>2021-04-09 01:06:41</td>\n",
       "      <td>33216.0</td>\n",
       "      <td>2.077912</td>\n",
       "      <td>14</td>\n",
       "      <td>0</td>\n",
       "      <td>50</td>\n",
       "    </tr>\n",
       "    <tr>\n",
       "      <th>4</th>\n",
       "      <td>/media/habi/Fast_SSD/Chondrules Space Yogita/C...</td>\n",
       "      <td>/media/habi/Fast_SSD/Chondrules Space Yogita/C...</td>\n",
       "      <td>[]</td>\n",
       "      <td>CK3B</td>\n",
       "      <td>CK3B</td>\n",
       "      <td>rec_top_PNG_8bit</td>\n",
       "      <td>[/media/habi/Fast_SSD/Chondrules Space Yogita/...</td>\n",
       "      <td>624</td>\n",
       "      <td>SkyScan 1272</td>\n",
       "      <td>70.0</td>\n",
       "      <td>...</td>\n",
       "      <td>3900</td>\n",
       "      <td>3</td>\n",
       "      <td>1</td>\n",
       "      <td>0.1</td>\n",
       "      <td>2021-04-09 10:36:03</td>\n",
       "      <td>33211.0</td>\n",
       "      <td>5.000000</td>\n",
       "      <td>14</td>\n",
       "      <td>0</td>\n",
       "      <td>50</td>\n",
       "    </tr>\n",
       "    <tr>\n",
       "      <th>5</th>\n",
       "      <td>/media/habi/Fast_SSD/Chondrules Space Yogita/Q...</td>\n",
       "      <td>/media/habi/Fast_SSD/Chondrules Space Yogita/Q...</td>\n",
       "      <td>[]</td>\n",
       "      <td>Qing3</td>\n",
       "      <td>Qing3</td>\n",
       "      <td>rec_bottom_JPG_08bit</td>\n",
       "      <td>[/media/habi/Fast_SSD/Chondrules Space Yogita/...</td>\n",
       "      <td>423</td>\n",
       "      <td>SkyScan 1272</td>\n",
       "      <td>70.0</td>\n",
       "      <td>...</td>\n",
       "      <td>5300</td>\n",
       "      <td>3</td>\n",
       "      <td>1</td>\n",
       "      <td>0.1</td>\n",
       "      <td>2020-12-12 09:51:42</td>\n",
       "      <td>43734.0</td>\n",
       "      <td>1.800000</td>\n",
       "      <td>14</td>\n",
       "      <td>0</td>\n",
       "      <td>50</td>\n",
       "    </tr>\n",
       "    <tr>\n",
       "      <th>6</th>\n",
       "      <td>/media/habi/Fast_SSD/Chondrules Space Yogita/Q...</td>\n",
       "      <td>/media/habi/Fast_SSD/Chondrules Space Yogita/Q...</td>\n",
       "      <td>[]</td>\n",
       "      <td>Qing3</td>\n",
       "      <td>Qing3</td>\n",
       "      <td>rec_bottom_PNG_08bit</td>\n",
       "      <td>[/media/habi/Fast_SSD/Chondrules Space Yogita/...</td>\n",
       "      <td>701</td>\n",
       "      <td>SkyScan 1272</td>\n",
       "      <td>70.0</td>\n",
       "      <td>...</td>\n",
       "      <td>5300</td>\n",
       "      <td>3</td>\n",
       "      <td>1</td>\n",
       "      <td>0.1</td>\n",
       "      <td>2020-12-12 09:51:42</td>\n",
       "      <td>43734.0</td>\n",
       "      <td>1.800000</td>\n",
       "      <td>14</td>\n",
       "      <td>0</td>\n",
       "      <td>50</td>\n",
       "    </tr>\n",
       "  </tbody>\n",
       "</table>\n",
       "<p>5 rows × 23 columns</p>\n",
       "</div>"
      ],
      "text/plain": [
       "                                             LogFile   \n",
       "2  /media/habi/Fast_SSD/Chondrules Space Yogita/A...  \\\n",
       "3  /media/habi/Fast_SSD/Chondrules Space Yogita/C...   \n",
       "4  /media/habi/Fast_SSD/Chondrules Space Yogita/C...   \n",
       "5  /media/habi/Fast_SSD/Chondrules Space Yogita/Q...   \n",
       "6  /media/habi/Fast_SSD/Chondrules Space Yogita/Q...   \n",
       "\n",
       "                                              Folder XYAlignment   Sample   \n",
       "2  /media/habi/Fast_SSD/Chondrules Space Yogita/A...          []  All-CH2  \\\n",
       "3  /media/habi/Fast_SSD/Chondrules Space Yogita/C...          []     CK3A   \n",
       "4  /media/habi/Fast_SSD/Chondrules Space Yogita/C...          []     CK3B   \n",
       "5  /media/habi/Fast_SSD/Chondrules Space Yogita/Q...          []    Qing3   \n",
       "6  /media/habi/Fast_SSD/Chondrules Space Yogita/Q...          []    Qing3   \n",
       "\n",
       "  SampleName                   RecFolder   \n",
       "2    All-CH2  QuickOverview_rec_PNG_8bit  \\\n",
       "3       CK3A         rec_bottom_PNG_8bit   \n",
       "4       CK3B            rec_top_PNG_8bit   \n",
       "5      Qing3        rec_bottom_JPG_08bit   \n",
       "6      Qing3        rec_bottom_PNG_08bit   \n",
       "\n",
       "                                     Reconstructions   \n",
       "2  [/media/habi/Fast_SSD/Chondrules Space Yogita/...  \\\n",
       "3  [/media/habi/Fast_SSD/Chondrules Space Yogita/...   \n",
       "4  [/media/habi/Fast_SSD/Chondrules Space Yogita/...   \n",
       "5  [/media/habi/Fast_SSD/Chondrules Space Yogita/...   \n",
       "6  [/media/habi/Fast_SSD/Chondrules Space Yogita/...   \n",
       "\n",
       "   Number of reconstructions       Scanner  Voltage  ...  Exposuretime   \n",
       "2                        571  SkyScan 1272     70.0  ...          1516  \\\n",
       "3                        542  SkyScan 1272     70.0  ...          3900   \n",
       "4                        624  SkyScan 1272     70.0  ...          3900   \n",
       "5                        423  SkyScan 1272     70.0  ...          5300   \n",
       "6                        701  SkyScan 1272     70.0  ...          5300   \n",
       "\n",
       "   Averaging Stacks  RotationStep           Scan date  Scan time  Grayvalue   \n",
       "2      False      1           0.6 2020-02-18 15:53:26     1305.0   1.300000  \\\n",
       "3          3      1           0.1 2021-04-09 01:06:41    33216.0   2.077912   \n",
       "4          3      1           0.1 2021-04-09 10:36:03    33211.0   5.000000   \n",
       "5          3      1           0.1 2020-12-12 09:51:42    43734.0   1.800000   \n",
       "6          3      1           0.1 2020-12-12 09:51:42    43734.0   1.800000   \n",
       "\n",
       "  RingartefactCorrection  BeamHardeningCorrection  DefectPixelMasking  \n",
       "2                     14                        0                  50  \n",
       "3                     14                        0                  50  \n",
       "4                     14                        0                  50  \n",
       "5                     14                        0                  50  \n",
       "6                     14                        0                  50  \n",
       "\n",
       "[5 rows x 23 columns]"
      ]
     },
     "execution_count": 74,
     "metadata": {},
     "output_type": "execute_result"
    }
   ],
   "source": [
    "Data.tail()"
   ]
  },
  {
   "cell_type": "code",
   "execution_count": 75,
   "metadata": {
    "tags": []
   },
   "outputs": [],
   "source": [
    "# Load all reconstructions into the dataframe\n",
    "Reconstructions = [dask_image.imread.imread(os.path.join(f,'*rec0*.*')) for f in Data['Folder']]"
   ]
  },
  {
   "cell_type": "code",
   "execution_count": 76,
   "metadata": {},
   "outputs": [],
   "source": [
    "# How big are the datasets?\n",
    "Data['Size'] = [rec.shape for rec in Reconstructions]"
   ]
  },
  {
   "cell_type": "code",
   "execution_count": 77,
   "metadata": {
    "tags": []
   },
   "outputs": [
    {
     "data": {
      "text/html": [
       "<div>\n",
       "<style scoped>\n",
       "    .dataframe tbody tr th:only-of-type {\n",
       "        vertical-align: middle;\n",
       "    }\n",
       "\n",
       "    .dataframe tbody tr th {\n",
       "        vertical-align: top;\n",
       "    }\n",
       "\n",
       "    .dataframe thead th {\n",
       "        text-align: right;\n",
       "    }\n",
       "</style>\n",
       "<table border=\"1\" class=\"dataframe\">\n",
       "  <thead>\n",
       "    <tr style=\"text-align: right;\">\n",
       "      <th></th>\n",
       "      <th>Sample</th>\n",
       "      <th>RecFolder</th>\n",
       "      <th>Size</th>\n",
       "    </tr>\n",
       "  </thead>\n",
       "  <tbody>\n",
       "    <tr>\n",
       "      <th>0</th>\n",
       "      <td>All-CH2</td>\n",
       "      <td>1umAl0.5_rec_PNG_8bit</td>\n",
       "      <td>(1678, 1836, 1836, 3)</td>\n",
       "    </tr>\n",
       "    <tr>\n",
       "      <th>1</th>\n",
       "      <td>All-CH2</td>\n",
       "      <td>1umAl0.5Cu0.038_rec_PNG_8bit</td>\n",
       "      <td>(1621, 1804, 1804, 3)</td>\n",
       "    </tr>\n",
       "    <tr>\n",
       "      <th>2</th>\n",
       "      <td>All-CH2</td>\n",
       "      <td>QuickOverview_rec_PNG_8bit</td>\n",
       "      <td>(571, 660, 660, 3)</td>\n",
       "    </tr>\n",
       "    <tr>\n",
       "      <th>3</th>\n",
       "      <td>CK3A</td>\n",
       "      <td>rec_bottom_PNG_8bit</td>\n",
       "      <td>(542, 744, 744, 3)</td>\n",
       "    </tr>\n",
       "    <tr>\n",
       "      <th>4</th>\n",
       "      <td>CK3B</td>\n",
       "      <td>rec_top_PNG_8bit</td>\n",
       "      <td>(624, 812, 812, 3)</td>\n",
       "    </tr>\n",
       "    <tr>\n",
       "      <th>5</th>\n",
       "      <td>Qing3</td>\n",
       "      <td>rec_bottom_JPG_08bit</td>\n",
       "      <td>(540, 800, 788, 3)</td>\n",
       "    </tr>\n",
       "    <tr>\n",
       "      <th>6</th>\n",
       "      <td>Qing3</td>\n",
       "      <td>rec_bottom_PNG_08bit</td>\n",
       "      <td>(701, 800, 788, 3)</td>\n",
       "    </tr>\n",
       "  </tbody>\n",
       "</table>\n",
       "</div>"
      ],
      "text/plain": [
       "    Sample                     RecFolder                   Size\n",
       "0  All-CH2         1umAl0.5_rec_PNG_8bit  (1678, 1836, 1836, 3)\n",
       "1  All-CH2  1umAl0.5Cu0.038_rec_PNG_8bit  (1621, 1804, 1804, 3)\n",
       "2  All-CH2    QuickOverview_rec_PNG_8bit     (571, 660, 660, 3)\n",
       "3     CK3A           rec_bottom_PNG_8bit     (542, 744, 744, 3)\n",
       "4     CK3B              rec_top_PNG_8bit     (624, 812, 812, 3)\n",
       "5    Qing3          rec_bottom_JPG_08bit     (540, 800, 788, 3)\n",
       "6    Qing3          rec_bottom_PNG_08bit     (701, 800, 788, 3)"
      ]
     },
     "execution_count": 77,
     "metadata": {},
     "output_type": "execute_result"
    }
   ],
   "source": [
    "Data[['Sample', 'RecFolder', 'Size']]"
   ]
  },
  {
   "cell_type": "code",
   "execution_count": 78,
   "metadata": {},
   "outputs": [],
   "source": [
    "# The three cardinal directions\n",
    "directions = ['Axial',\n",
    "              'Coronal',\n",
    "              'Sagittal']"
   ]
  },
  {
   "cell_type": "code",
   "execution_count": 79,
   "metadata": {},
   "outputs": [
    {
     "data": {
      "application/vnd.jupyter.widget-view+json": {
       "model_id": "b4fa6f0fd553432287beca9d4c337c5d",
       "version_major": 2,
       "version_minor": 0
      },
      "text/plain": [
       "Middle images:   0%|          | 0/7 [00:00<?, ?it/s]"
      ]
     },
     "metadata": {},
     "output_type": "display_data"
    },
    {
     "data": {
      "application/vnd.jupyter.widget-view+json": {
       "model_id": "",
       "version_major": 2,
       "version_minor": 0
      },
      "text/plain": [
       "All-CH2/1umAl0.5_rec_PNG_8bit:   0%|          | 0/3 [00:00<?, ?it/s]"
      ]
     },
     "metadata": {},
     "output_type": "display_data"
    },
    {
     "data": {
      "application/vnd.jupyter.widget-view+json": {
       "model_id": "f18a9a093d934552bb9fab4931adca2c",
       "version_major": 2,
       "version_minor": 0
      },
      "text/plain": [
       "All-CH2/1umAl0.5Cu0.038_rec_PNG_8bit:   0%|          | 0/3 [00:00<?, ?it/s]"
      ]
     },
     "metadata": {},
     "output_type": "display_data"
    },
    {
     "ename": "KeyboardInterrupt",
     "evalue": "",
     "output_type": "error",
     "traceback": [
      "\u001b[0;31m---------------------------------------------------------------------------\u001b[0m",
      "\u001b[0;31mKeyboardInterrupt\u001b[0m                         Traceback (most recent call last)",
      "Cell \u001b[0;32mIn[79], line 18\u001b[0m\n\u001b[1;32m     15\u001b[0m \u001b[38;5;28;01melse\u001b[39;00m:\n\u001b[1;32m     16\u001b[0m     \u001b[38;5;66;03m# Generate requested axial view\u001b[39;00m\n\u001b[1;32m     17\u001b[0m     \u001b[38;5;28;01mif\u001b[39;00m \u001b[38;5;124m'\u001b[39m\u001b[38;5;124mAxial\u001b[39m\u001b[38;5;124m'\u001b[39m \u001b[38;5;129;01min\u001b[39;00m direction:\n\u001b[0;32m---> 18\u001b[0m         Data\u001b[38;5;241m.\u001b[39mat[c, \u001b[38;5;124m'\u001b[39m\u001b[38;5;124mMid_\u001b[39m\u001b[38;5;124m'\u001b[39m \u001b[38;5;241m+\u001b[39m direction] \u001b[38;5;241m=\u001b[39m \u001b[43mReconstructions\u001b[49m\u001b[43m[\u001b[49m\u001b[43mc\u001b[49m\u001b[43m]\u001b[49m\u001b[43m[\u001b[49m\u001b[43mData\u001b[49m\u001b[43m[\u001b[49m\u001b[38;5;124;43m'\u001b[39;49m\u001b[38;5;124;43mSize\u001b[39;49m\u001b[38;5;124;43m'\u001b[39;49m\u001b[43m]\u001b[49m\u001b[43m[\u001b[49m\u001b[43mc\u001b[49m\u001b[43m]\u001b[49m\u001b[43m[\u001b[49m\u001b[38;5;241;43m0\u001b[39;49m\u001b[43m]\u001b[49m\u001b[43m \u001b[49m\u001b[38;5;241;43m/\u001b[39;49m\u001b[38;5;241;43m/\u001b[39;49m\u001b[43m \u001b[49m\u001b[38;5;241;43m2\u001b[39;49m\u001b[43m]\u001b[49m\u001b[38;5;241;43m.\u001b[39;49m\u001b[43mcompute\u001b[49m\u001b[43m(\u001b[49m\u001b[43m)\u001b[49m\u001b[38;5;241m.\u001b[39msqueeze()\n\u001b[1;32m     19\u001b[0m     \u001b[38;5;28;01mif\u001b[39;00m \u001b[38;5;124m'\u001b[39m\u001b[38;5;124mSagittal\u001b[39m\u001b[38;5;124m'\u001b[39m \u001b[38;5;129;01min\u001b[39;00m direction:\n\u001b[1;32m     20\u001b[0m         Data\u001b[38;5;241m.\u001b[39mat[c, \u001b[38;5;124m'\u001b[39m\u001b[38;5;124mMid_\u001b[39m\u001b[38;5;124m'\u001b[39m \u001b[38;5;241m+\u001b[39m direction] \u001b[38;5;241m=\u001b[39m Reconstructions[c][:, Data[\u001b[38;5;124m'\u001b[39m\u001b[38;5;124mSize\u001b[39m\u001b[38;5;124m'\u001b[39m][c][\u001b[38;5;241m1\u001b[39m] \u001b[38;5;241m/\u001b[39m\u001b[38;5;241m/\u001b[39m \u001b[38;5;241m2\u001b[39m, :]\u001b[38;5;241m.\u001b[39mcompute()\u001b[38;5;241m.\u001b[39msqueeze()\n",
      "File \u001b[0;32m~/miniconda3/envs/yogita/lib/python3.10/site-packages/dask/base.py:314\u001b[0m, in \u001b[0;36mDaskMethodsMixin.compute\u001b[0;34m(self, **kwargs)\u001b[0m\n\u001b[1;32m    290\u001b[0m \u001b[38;5;28;01mdef\u001b[39;00m \u001b[38;5;21mcompute\u001b[39m(\u001b[38;5;28mself\u001b[39m, \u001b[38;5;241m*\u001b[39m\u001b[38;5;241m*\u001b[39mkwargs):\n\u001b[1;32m    291\u001b[0m \u001b[38;5;250m    \u001b[39m\u001b[38;5;124;03m\"\"\"Compute this dask collection\u001b[39;00m\n\u001b[1;32m    292\u001b[0m \n\u001b[1;32m    293\u001b[0m \u001b[38;5;124;03m    This turns a lazy Dask collection into its in-memory equivalent.\u001b[39;00m\n\u001b[0;32m   (...)\u001b[0m\n\u001b[1;32m    312\u001b[0m \u001b[38;5;124;03m    dask.base.compute\u001b[39;00m\n\u001b[1;32m    313\u001b[0m \u001b[38;5;124;03m    \"\"\"\u001b[39;00m\n\u001b[0;32m--> 314\u001b[0m     (result,) \u001b[38;5;241m=\u001b[39m \u001b[43mcompute\u001b[49m\u001b[43m(\u001b[49m\u001b[38;5;28;43mself\u001b[39;49m\u001b[43m,\u001b[49m\u001b[43m \u001b[49m\u001b[43mtraverse\u001b[49m\u001b[38;5;241;43m=\u001b[39;49m\u001b[38;5;28;43;01mFalse\u001b[39;49;00m\u001b[43m,\u001b[49m\u001b[43m \u001b[49m\u001b[38;5;241;43m*\u001b[39;49m\u001b[38;5;241;43m*\u001b[39;49m\u001b[43mkwargs\u001b[49m\u001b[43m)\u001b[49m\n\u001b[1;32m    315\u001b[0m     \u001b[38;5;28;01mreturn\u001b[39;00m result\n",
      "File \u001b[0;32m~/miniconda3/envs/yogita/lib/python3.10/site-packages/dask/base.py:599\u001b[0m, in \u001b[0;36mcompute\u001b[0;34m(traverse, optimize_graph, scheduler, get, *args, **kwargs)\u001b[0m\n\u001b[1;32m    596\u001b[0m     keys\u001b[38;5;241m.\u001b[39mappend(x\u001b[38;5;241m.\u001b[39m__dask_keys__())\n\u001b[1;32m    597\u001b[0m     postcomputes\u001b[38;5;241m.\u001b[39mappend(x\u001b[38;5;241m.\u001b[39m__dask_postcompute__())\n\u001b[0;32m--> 599\u001b[0m results \u001b[38;5;241m=\u001b[39m \u001b[43mschedule\u001b[49m\u001b[43m(\u001b[49m\u001b[43mdsk\u001b[49m\u001b[43m,\u001b[49m\u001b[43m \u001b[49m\u001b[43mkeys\u001b[49m\u001b[43m,\u001b[49m\u001b[43m \u001b[49m\u001b[38;5;241;43m*\u001b[39;49m\u001b[38;5;241;43m*\u001b[39;49m\u001b[43mkwargs\u001b[49m\u001b[43m)\u001b[49m\n\u001b[1;32m    600\u001b[0m \u001b[38;5;28;01mreturn\u001b[39;00m repack([f(r, \u001b[38;5;241m*\u001b[39ma) \u001b[38;5;28;01mfor\u001b[39;00m r, (f, a) \u001b[38;5;129;01min\u001b[39;00m \u001b[38;5;28mzip\u001b[39m(results, postcomputes)])\n",
      "File \u001b[0;32m~/miniconda3/envs/yogita/lib/python3.10/site-packages/distributed/client.py:3213\u001b[0m, in \u001b[0;36mClient.get\u001b[0;34m(self, dsk, keys, workers, allow_other_workers, resources, sync, asynchronous, direct, retries, priority, fifo_timeout, actors, **kwargs)\u001b[0m\n\u001b[1;32m   3211\u001b[0m         should_rejoin \u001b[38;5;241m=\u001b[39m \u001b[38;5;28;01mFalse\u001b[39;00m\n\u001b[1;32m   3212\u001b[0m \u001b[38;5;28;01mtry\u001b[39;00m:\n\u001b[0;32m-> 3213\u001b[0m     results \u001b[38;5;241m=\u001b[39m \u001b[38;5;28;43mself\u001b[39;49m\u001b[38;5;241;43m.\u001b[39;49m\u001b[43mgather\u001b[49m\u001b[43m(\u001b[49m\u001b[43mpacked\u001b[49m\u001b[43m,\u001b[49m\u001b[43m \u001b[49m\u001b[43masynchronous\u001b[49m\u001b[38;5;241;43m=\u001b[39;49m\u001b[43masynchronous\u001b[49m\u001b[43m,\u001b[49m\u001b[43m \u001b[49m\u001b[43mdirect\u001b[49m\u001b[38;5;241;43m=\u001b[39;49m\u001b[43mdirect\u001b[49m\u001b[43m)\u001b[49m\n\u001b[1;32m   3214\u001b[0m \u001b[38;5;28;01mfinally\u001b[39;00m:\n\u001b[1;32m   3215\u001b[0m     \u001b[38;5;28;01mfor\u001b[39;00m f \u001b[38;5;129;01min\u001b[39;00m futures\u001b[38;5;241m.\u001b[39mvalues():\n",
      "File \u001b[0;32m~/miniconda3/envs/yogita/lib/python3.10/site-packages/distributed/client.py:2348\u001b[0m, in \u001b[0;36mClient.gather\u001b[0;34m(self, futures, errors, direct, asynchronous)\u001b[0m\n\u001b[1;32m   2346\u001b[0m \u001b[38;5;28;01melse\u001b[39;00m:\n\u001b[1;32m   2347\u001b[0m     local_worker \u001b[38;5;241m=\u001b[39m \u001b[38;5;28;01mNone\u001b[39;00m\n\u001b[0;32m-> 2348\u001b[0m \u001b[38;5;28;01mreturn\u001b[39;00m \u001b[38;5;28;43mself\u001b[39;49m\u001b[38;5;241;43m.\u001b[39;49m\u001b[43msync\u001b[49m\u001b[43m(\u001b[49m\n\u001b[1;32m   2349\u001b[0m \u001b[43m    \u001b[49m\u001b[38;5;28;43mself\u001b[39;49m\u001b[38;5;241;43m.\u001b[39;49m\u001b[43m_gather\u001b[49m\u001b[43m,\u001b[49m\n\u001b[1;32m   2350\u001b[0m \u001b[43m    \u001b[49m\u001b[43mfutures\u001b[49m\u001b[43m,\u001b[49m\n\u001b[1;32m   2351\u001b[0m \u001b[43m    \u001b[49m\u001b[43merrors\u001b[49m\u001b[38;5;241;43m=\u001b[39;49m\u001b[43merrors\u001b[49m\u001b[43m,\u001b[49m\n\u001b[1;32m   2352\u001b[0m \u001b[43m    \u001b[49m\u001b[43mdirect\u001b[49m\u001b[38;5;241;43m=\u001b[39;49m\u001b[43mdirect\u001b[49m\u001b[43m,\u001b[49m\n\u001b[1;32m   2353\u001b[0m \u001b[43m    \u001b[49m\u001b[43mlocal_worker\u001b[49m\u001b[38;5;241;43m=\u001b[39;49m\u001b[43mlocal_worker\u001b[49m\u001b[43m,\u001b[49m\n\u001b[1;32m   2354\u001b[0m \u001b[43m    \u001b[49m\u001b[43masynchronous\u001b[49m\u001b[38;5;241;43m=\u001b[39;49m\u001b[43masynchronous\u001b[49m\u001b[43m,\u001b[49m\n\u001b[1;32m   2355\u001b[0m \u001b[43m\u001b[49m\u001b[43m)\u001b[49m\n",
      "File \u001b[0;32m~/miniconda3/envs/yogita/lib/python3.10/site-packages/distributed/utils.py:349\u001b[0m, in \u001b[0;36mSyncMethodMixin.sync\u001b[0;34m(self, func, asynchronous, callback_timeout, *args, **kwargs)\u001b[0m\n\u001b[1;32m    347\u001b[0m     \u001b[38;5;28;01mreturn\u001b[39;00m future\n\u001b[1;32m    348\u001b[0m \u001b[38;5;28;01melse\u001b[39;00m:\n\u001b[0;32m--> 349\u001b[0m     \u001b[38;5;28;01mreturn\u001b[39;00m \u001b[43msync\u001b[49m\u001b[43m(\u001b[49m\n\u001b[1;32m    350\u001b[0m \u001b[43m        \u001b[49m\u001b[38;5;28;43mself\u001b[39;49m\u001b[38;5;241;43m.\u001b[39;49m\u001b[43mloop\u001b[49m\u001b[43m,\u001b[49m\u001b[43m \u001b[49m\u001b[43mfunc\u001b[49m\u001b[43m,\u001b[49m\u001b[43m \u001b[49m\u001b[38;5;241;43m*\u001b[39;49m\u001b[43margs\u001b[49m\u001b[43m,\u001b[49m\u001b[43m \u001b[49m\u001b[43mcallback_timeout\u001b[49m\u001b[38;5;241;43m=\u001b[39;49m\u001b[43mcallback_timeout\u001b[49m\u001b[43m,\u001b[49m\u001b[43m \u001b[49m\u001b[38;5;241;43m*\u001b[39;49m\u001b[38;5;241;43m*\u001b[39;49m\u001b[43mkwargs\u001b[49m\n\u001b[1;32m    351\u001b[0m \u001b[43m    \u001b[49m\u001b[43m)\u001b[49m\n",
      "File \u001b[0;32m~/miniconda3/envs/yogita/lib/python3.10/site-packages/distributed/utils.py:412\u001b[0m, in \u001b[0;36msync\u001b[0;34m(loop, func, callback_timeout, *args, **kwargs)\u001b[0m\n\u001b[1;32m    410\u001b[0m \u001b[38;5;28;01melse\u001b[39;00m:\n\u001b[1;32m    411\u001b[0m     \u001b[38;5;28;01mwhile\u001b[39;00m \u001b[38;5;129;01mnot\u001b[39;00m e\u001b[38;5;241m.\u001b[39mis_set():\n\u001b[0;32m--> 412\u001b[0m         \u001b[43mwait\u001b[49m\u001b[43m(\u001b[49m\u001b[38;5;241;43m10\u001b[39;49m\u001b[43m)\u001b[49m\n\u001b[1;32m    414\u001b[0m \u001b[38;5;28;01mif\u001b[39;00m error:\n\u001b[1;32m    415\u001b[0m     typ, exc, tb \u001b[38;5;241m=\u001b[39m error\n",
      "File \u001b[0;32m~/miniconda3/envs/yogita/lib/python3.10/site-packages/distributed/utils.py:401\u001b[0m, in \u001b[0;36msync.<locals>.wait\u001b[0;34m(timeout)\u001b[0m\n\u001b[1;32m    399\u001b[0m \u001b[38;5;28;01mdef\u001b[39;00m \u001b[38;5;21mwait\u001b[39m(timeout):\n\u001b[1;32m    400\u001b[0m     \u001b[38;5;28;01mtry\u001b[39;00m:\n\u001b[0;32m--> 401\u001b[0m         \u001b[38;5;28;01mreturn\u001b[39;00m \u001b[43me\u001b[49m\u001b[38;5;241;43m.\u001b[39;49m\u001b[43mwait\u001b[49m\u001b[43m(\u001b[49m\u001b[43mtimeout\u001b[49m\u001b[43m)\u001b[49m\n\u001b[1;32m    402\u001b[0m     \u001b[38;5;28;01mexcept\u001b[39;00m \u001b[38;5;167;01mKeyboardInterrupt\u001b[39;00m:\n\u001b[1;32m    403\u001b[0m         loop\u001b[38;5;241m.\u001b[39madd_callback(cancel)\n",
      "File \u001b[0;32m~/miniconda3/envs/yogita/lib/python3.10/threading.py:607\u001b[0m, in \u001b[0;36mEvent.wait\u001b[0;34m(self, timeout)\u001b[0m\n\u001b[1;32m    605\u001b[0m signaled \u001b[38;5;241m=\u001b[39m \u001b[38;5;28mself\u001b[39m\u001b[38;5;241m.\u001b[39m_flag\n\u001b[1;32m    606\u001b[0m \u001b[38;5;28;01mif\u001b[39;00m \u001b[38;5;129;01mnot\u001b[39;00m signaled:\n\u001b[0;32m--> 607\u001b[0m     signaled \u001b[38;5;241m=\u001b[39m \u001b[38;5;28;43mself\u001b[39;49m\u001b[38;5;241;43m.\u001b[39;49m\u001b[43m_cond\u001b[49m\u001b[38;5;241;43m.\u001b[39;49m\u001b[43mwait\u001b[49m\u001b[43m(\u001b[49m\u001b[43mtimeout\u001b[49m\u001b[43m)\u001b[49m\n\u001b[1;32m    608\u001b[0m \u001b[38;5;28;01mreturn\u001b[39;00m signaled\n",
      "File \u001b[0;32m~/miniconda3/envs/yogita/lib/python3.10/threading.py:324\u001b[0m, in \u001b[0;36mCondition.wait\u001b[0;34m(self, timeout)\u001b[0m\n\u001b[1;32m    322\u001b[0m \u001b[38;5;28;01melse\u001b[39;00m:\n\u001b[1;32m    323\u001b[0m     \u001b[38;5;28;01mif\u001b[39;00m timeout \u001b[38;5;241m>\u001b[39m \u001b[38;5;241m0\u001b[39m:\n\u001b[0;32m--> 324\u001b[0m         gotit \u001b[38;5;241m=\u001b[39m \u001b[43mwaiter\u001b[49m\u001b[38;5;241;43m.\u001b[39;49m\u001b[43macquire\u001b[49m\u001b[43m(\u001b[49m\u001b[38;5;28;43;01mTrue\u001b[39;49;00m\u001b[43m,\u001b[49m\u001b[43m \u001b[49m\u001b[43mtimeout\u001b[49m\u001b[43m)\u001b[49m\n\u001b[1;32m    325\u001b[0m     \u001b[38;5;28;01melse\u001b[39;00m:\n\u001b[1;32m    326\u001b[0m         gotit \u001b[38;5;241m=\u001b[39m waiter\u001b[38;5;241m.\u001b[39macquire(\u001b[38;5;28;01mFalse\u001b[39;00m)\n",
      "\u001b[0;31mKeyboardInterrupt\u001b[0m: "
     ]
    }
   ],
   "source": [
    "# Read or calculate the middle slices, put them into the dataframe and save them to disk\n",
    "for d, direction in enumerate(directions):\n",
    "    Data['Mid_' + direction] = [None] * len(Reconstructions)\n",
    "for c, row in tqdm(Data.iterrows(), desc='Middle images', total=len(Data), leave=False):\n",
    "    for d, direction in tqdm(enumerate(directions),\n",
    "                             desc='%s/%s' % (row['Sample'], row['RecFolder']),\n",
    "                             leave=False,\n",
    "                             total=len(directions)):\n",
    "        outfilepath = os.path.join(os.path.dirname(row['Folder']),\n",
    "                                   '%s.%s.Middle.%s.png' % (row['Sample'],\n",
    "                                                            row['RecFolder'],\n",
    "                                                            direction))\n",
    "        if os.path.exists(outfilepath):\n",
    "            Data.at[c, 'Mid_' + direction] = dask_image.imread.imread(outfilepath).squeeze()\n",
    "        else:\n",
    "            # Generate requested axial view\n",
    "            if 'Axial' in direction:\n",
    "                Data.at[c, 'Mid_' + direction] = Reconstructions[c][Data['Size'][c][0] // 2].compute().squeeze()\n",
    "            if 'Sagittal' in direction:\n",
    "                Data.at[c, 'Mid_' + direction] = Reconstructions[c][:, Data['Size'][c][1] // 2, :].compute().squeeze()\n",
    "            if 'Coronal' in direction:\n",
    "                Data.at[c, 'Mid_' + direction] = Reconstructions[c][:, :, Data['Size'][c][2] // 2].compute().squeeze()\n",
    "            # Save the calculated 'direction' view to disk\n",
    "            imageio.imwrite(outfilepath, (Data.at[c, 'Mid_' + direction]))"
   ]
  },
  {
   "cell_type": "code",
   "execution_count": null,
   "metadata": {},
   "outputs": [],
   "source": [
    "# Show middle slices\n",
    "for c, row in tqdm(Data.iterrows(),\n",
    "                   desc='Saving middle images overview',\n",
    "                   total=len(Data),\n",
    "                   leave=False):\n",
    "    outfilepath = os.path.join(os.path.dirname(row['Folder']),\n",
    "                               '%s.%s.MiddleSlices.png' % (row['Sample'], row['Scan']))\n",
    "    if not os.path.exists(outfilepath):    \n",
    "        for d, direction in tqdm(enumerate(directions),\n",
    "                                 desc='%s/%s' % (row['Sample'], row['Scan']),\n",
    "                                 leave=False,\n",
    "                                 total=len(directions)):\n",
    "            plt.subplot(1, 3, d + 1)\n",
    "            plt.imshow(row['Mid_' + direction].squeeze())\n",
    "            if d == 0:\n",
    "                plt.axhline(row.Size[1] // 2, c=seaborn.color_palette()[0])\n",
    "                plt.axvline(row.Size[2] // 2, c=seaborn.color_palette()[1])\n",
    "                plt.gca().add_artist(ScaleBar(row['Voxelsize'],\n",
    "                                              'um',\n",
    "                                              color=seaborn.color_palette()[2]))\n",
    "            elif d == 1:\n",
    "                plt.axhline(row.Size[0] // 2, c=seaborn.color_palette()[2])\n",
    "                plt.axvline(row.Size[d] // 2, c=seaborn.color_palette()[1])\n",
    "                plt.gca().add_artist(ScaleBar(row['Voxelsize'],\n",
    "                                              'um',\n",
    "                                              color=seaborn.color_palette()[0]))\n",
    "            else:\n",
    "                plt.axhline(row.Size[0] // 2, c=seaborn.color_palette()[2])\n",
    "                plt.axvline(row.Size[d] // 2, c=seaborn.color_palette()[0])\n",
    "                plt.gca().add_artist(ScaleBar(row['Voxelsize'],\n",
    "                                              'um',\n",
    "                                              color=seaborn.color_palette()[1]))\n",
    "            plt.title('%s - %s' % (os.path.join(row['Sample'], row['RecFolder']),\n",
    "                                   direction + ' Middle slice'))\n",
    "            plt.axis('off')\n",
    "            plt.savefig(outfilepath,\n",
    "                        transparent=True,\n",
    "                        bbox_inches='tight')\n",
    "        plt.show()"
   ]
  },
  {
   "cell_type": "code",
   "execution_count": null,
   "metadata": {},
   "outputs": [],
   "source": [
    "# Read or calculate the directional MIPs, put them into the dataframe and save them to disk\n",
    "for d, direction in enumerate(directions):\n",
    "    Data['MIP_' + direction] = [None] * len(Reconstructions)\n",
    "for c, row in tqdm(Data.iterrows(), desc='MIPs', total=len(Data), leave=False):\n",
    "    for d, direction in tqdm(enumerate(directions),\n",
    "                             desc='%s/%s' % (row['Sample'], row['RecFolder']),\n",
    "                             leave=False,\n",
    "                             total=len(directions)):\n",
    "        outfilepath = os.path.join(os.path.dirname(row['Folder']),\n",
    "                                   '%s.%s.MIP.%s.png' % (row['Sample'],\n",
    "                                                         row['RecFolder'],\n",
    "                                                         direction))\n",
    "        if os.path.exists(outfilepath):\n",
    "            Data.at[c, 'MIP_' + direction] = dask_image.imread.imread(outfilepath).squeeze()\n",
    "        else:\n",
    "            # Generate MIP\n",
    "            Data.at[c, 'MIP_' + direction] = Reconstructions[c].max(axis=d).compute().squeeze()\n",
    "            # Save it out\n",
    "            imageio.imwrite(outfilepath, Data.at[c, 'MIP_' + direction].astype('uint8'))"
   ]
  },
  {
   "cell_type": "code",
   "execution_count": null,
   "metadata": {},
   "outputs": [],
   "source": [
    "# Show MIP slices\n",
    "for c, row in tqdm(Data.iterrows(),\n",
    "                   desc='Saving MIP images overview',\n",
    "                   total=len(Data),\n",
    "                   leave=False):\n",
    "    outfilepath = os.path.join(os.path.dirname(row['Folder']),\n",
    "                               '%s.%s.MIPs.png' % (row['Sample'], row['RecFolder']))\n",
    "    if not os.path.exists(outfilepath):    \n",
    "        for d, direction in tqdm(enumerate(directions),\n",
    "                                          desc='%s/%s' % (row['Sample'], row['Scan']),\n",
    "                                          leave=False,\n",
    "                                          total=len(directions)):\n",
    "            plt.subplot(1, 3, d + 1)\n",
    "            plt.imshow(row['MIP_' + direction].squeeze())\n",
    "            plt.gca().add_artist(ScaleBar(row['Voxelsize'],\n",
    "                                          'um'))\n",
    "            plt.title('%s - %s' % (os.path.join(row['Sample'], row['RecFolder']),\n",
    "                                   direction + ' MIP'))\n",
    "            plt.axis('off')\n",
    "        plt.savefig(outfilepath,\n",
    "                    transparent=True,\n",
    "                    bbox_inches='tight')\n",
    "        plt.show()"
   ]
  },
  {
   "cell_type": "code",
   "execution_count": null,
   "metadata": {},
   "outputs": [],
   "source": [
    "# Calculate and plot each histogram of the reconstructions\n",
    "for c, row in Data.iterrows():\n",
    "    plt.hist(Reconstructions[c].ravel().compute(),\n",
    "             log=False,\n",
    "             bins='sturges',\n",
    "             histtype='bar',\n",
    "             label=Reconstructions[c].dtype)\n",
    "    plt.legend()\n",
    "    plt.title(os.path.join(row.Sample, row.RecFolder))\n",
    "    plt.savefig(os.path.join(Root, row.Sample, '.'.join((row.Sample, row.RecFolder, 'Histogram', 'png'))),\n",
    "                bbox_inches='tight')\n",
    "    plt.savefig(os.path.join(OutPutDir, '.'.join((row.Sample, row.RecFolder, 'Histogram', 'png'))),\n",
    "                bbox_inches='tight')    \n",
    "    plt.show()"
   ]
  },
  {
   "cell_type": "code",
   "execution_count": null,
   "metadata": {
    "tags": []
   },
   "outputs": [],
   "source": [
    "print('Saved all histograms to %s' % OutPutDir)"
   ]
  },
  {
   "cell_type": "code",
   "execution_count": null,
   "metadata": {},
   "outputs": [],
   "source": []
  }
 ],
 "metadata": {
  "kernelspec": {
   "display_name": "Python 3 (ipykernel)",
   "language": "python",
   "name": "python3"
  },
  "language_info": {
   "codemirror_mode": {
    "name": "ipython",
    "version": 3
   },
   "file_extension": ".py",
   "mimetype": "text/x-python",
   "name": "python",
   "nbconvert_exporter": "python",
   "pygments_lexer": "ipython3",
   "version": "3.10.10"
  }
 },
 "nbformat": 4,
 "nbformat_minor": 4
}
